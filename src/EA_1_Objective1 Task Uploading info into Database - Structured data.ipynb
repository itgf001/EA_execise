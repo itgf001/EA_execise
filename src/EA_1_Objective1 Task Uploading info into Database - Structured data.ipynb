{
 "cells": [
  {
   "cell_type": "markdown",
   "metadata": {},
   "source": [
    "# EA 1 Object 1\n",
    "## Upload csv files to database\n",
    "\n",
    "### For structured data we upload csv files into postgresql DB\n",
    "\n"
   ]
  },
  {
   "cell_type": "markdown",
   "metadata": {},
   "source": [
    "### Importing necessary libraries"
   ]
  },
  {
   "cell_type": "code",
   "execution_count": 1,
   "metadata": {},
   "outputs": [],
   "source": [
    "import pandas as pd\n",
    "import psycopg2 \n",
    "from  sqlalchemy  import create_engine"
   ]
  },
  {
   "cell_type": "markdown",
   "metadata": {},
   "source": [
    "### Loading sql magic function"
   ]
  },
  {
   "cell_type": "code",
   "execution_count": 2,
   "metadata": {},
   "outputs": [],
   "source": [
    "%load_ext sql"
   ]
  },
  {
   "cell_type": "markdown",
   "metadata": {},
   "source": [
    "### Connecting to postgre @ database : ea_test that we created in conda prompt"
   ]
  },
  {
   "cell_type": "code",
   "execution_count": 3,
   "metadata": {},
   "outputs": [
    {
     "data": {
      "text/plain": [
       "'Connected: @ea_test'"
      ]
     },
     "execution_count": 3,
     "metadata": {},
     "output_type": "execute_result"
    }
   ],
   "source": [
    "%sql postgresql://localhost/ea_test"
   ]
  },
  {
   "cell_type": "markdown",
   "metadata": {},
   "source": [
    "### Create tables block"
   ]
  },
  {
   "cell_type": "code",
   "execution_count": 4,
   "metadata": {},
   "outputs": [
    {
     "name": "stdout",
     "output_type": "stream",
     "text": [
      " * postgresql://localhost/ea_test\n",
      "Done.\n",
      "Done.\n"
     ]
    },
    {
     "data": {
      "text/plain": [
       "[]"
      ]
     },
     "execution_count": 4,
     "metadata": {},
     "output_type": "execute_result"
    }
   ],
   "source": [
    "%%sql \n",
    "\n",
    "DROP TABLE IF EXISTS player_attribute;\n",
    "\n",
    "CREATE TABLE player_attribute\n",
    "(\n",
    "    PK serial PRIMARY KEY,\n",
    "    Acceleration VARCHAR(255) ,\n",
    "    Aggression VARCHAR(255) ,\n",
    "    Agility VARCHAR(255) ,\n",
    "    Balance VARCHAR(255) ,\n",
    "    Ball_control VARCHAR(255) ,\n",
    "    Composure VARCHAR(255) ,\n",
    "    Crossing VARCHAR(255) ,\n",
    "    Curve VARCHAR(255) ,\n",
    "    Dribbling VARCHAR(255) ,\n",
    "    Finishing VARCHAR(255) ,\n",
    "    Free_kick_accuracy VARCHAR(255) ,\n",
    "    GK_diving VARCHAR(255) ,\n",
    "    GK_handling VARCHAR(255) ,\n",
    "    GK_kicking VARCHAR(255) ,\n",
    "    GK_positioning VARCHAR(255) ,\n",
    "    GK_reflexes VARCHAR(255) ,\n",
    "    Heading_accuracy VARCHAR(255) ,\n",
    "    ID VARCHAR(255) ,\n",
    "    Interceptions VARCHAR(255) ,\n",
    "    Jumping VARCHAR(255) ,\n",
    "    Long_passing VARCHAR(255) ,\n",
    "    Long_shots VARCHAR(255) ,\n",
    "    Marking VARCHAR(255) ,\n",
    "    Penalties VARCHAR(255) ,\n",
    "    Positioning VARCHAR(255) ,\n",
    "    Reactions VARCHAR(255) ,\n",
    "    Short_passing VARCHAR(255) ,\n",
    "    Shot_power VARCHAR(255) ,\n",
    "    Sliding_tackle VARCHAR(255) ,\n",
    "    Sprint_speed VARCHAR(255) ,\n",
    "    Stamina VARCHAR(255) ,\n",
    "    Standing_tackle VARCHAR(255) ,\n",
    "    Strength VARCHAR(255) ,\n",
    "    Vision VARCHAR(255) ,\n",
    "    Volleys VARCHAR(255)\n",
    "\n",
    ")\n",
    ";\n"
   ]
  },
  {
   "cell_type": "code",
   "execution_count": 5,
   "metadata": {},
   "outputs": [
    {
     "name": "stdout",
     "output_type": "stream",
     "text": [
      " * postgresql://localhost/ea_test\n",
      "Done.\n",
      "Done.\n"
     ]
    },
    {
     "data": {
      "text/plain": [
       "[]"
      ]
     },
     "execution_count": 5,
     "metadata": {},
     "output_type": "execute_result"
    }
   ],
   "source": [
    "%%sql\n",
    "\n",
    "DROP TABLE IF EXISTS player_personal;\n",
    "\n",
    "CREATE TABLE player_personal\n",
    "(\n",
    "PK serial  PRIMARY KEY ,\n",
    "Unnamed VARCHAR (255) ,\n",
    "ID VARCHAR (255) ,\n",
    "Name VARCHAR (255) ,\n",
    "Age VARCHAR (255) ,\n",
    "Photo VARCHAR (255) ,\n",
    "Nationality VARCHAR (255) ,\n",
    "Flag VARCHAR (255) ,\n",
    "Overall VARCHAR (255) ,\n",
    "Potential VARCHAR (255) ,\n",
    "Club VARCHAR (255) ,\n",
    "Club_Logo VARCHAR (255) ,\n",
    "Value VARCHAR (255) ,\n",
    "Wage VARCHAR (255) ,\n",
    "Special VARCHAR (255)\n",
    ") \n",
    ";\n"
   ]
  },
  {
   "cell_type": "code",
   "execution_count": 6,
   "metadata": {},
   "outputs": [
    {
     "name": "stdout",
     "output_type": "stream",
     "text": [
      " * postgresql://localhost/ea_test\n",
      "Done.\n",
      "Done.\n"
     ]
    },
    {
     "data": {
      "text/plain": [
       "[]"
      ]
     },
     "execution_count": 6,
     "metadata": {},
     "output_type": "execute_result"
    }
   ],
   "source": [
    "%%sql\n",
    "\n",
    "DROP TABLE IF EXISTS player_playing_position;\n",
    "\n",
    "CREATE TABLE player_playing_position\n",
    "(\n",
    "PK serial PRIMARY KEY ,\n",
    "CAM VARCHAR (255) ,\n",
    "CB VARCHAR (255) ,\n",
    "CDM VARCHAR (255) ,\n",
    "CF VARCHAR (255) ,\n",
    "CM VARCHAR (255) ,\n",
    "ID VARCHAR (255) ,\n",
    "LAM VARCHAR (255) ,\n",
    "LB VARCHAR (255) ,\n",
    "LCB VARCHAR (255) ,\n",
    "LCM VARCHAR (255) ,\n",
    "LDM VARCHAR (255) ,\n",
    "LF VARCHAR (255) ,\n",
    "LM VARCHAR (255) ,\n",
    "LS VARCHAR (255) ,\n",
    "LW VARCHAR (255) ,\n",
    "LWB VARCHAR (255) ,\n",
    "Preferred_Positions VARCHAR (255) ,\n",
    "RAM VARCHAR (255) ,\n",
    "RB VARCHAR (255) ,\n",
    "RCB VARCHAR (255) ,\n",
    "RCM VARCHAR (255) ,\n",
    "RDM VARCHAR (255) ,\n",
    "RF VARCHAR (255) ,\n",
    "RM VARCHAR (255) ,\n",
    "RS VARCHAR (255) ,\n",
    "RW VARCHAR (255) ,\n",
    "RWB VARCHAR (255) ,\n",
    "ST VARCHAR (255)\n",
    ")\n",
    ";"
   ]
  },
  {
   "cell_type": "markdown",
   "metadata": {},
   "source": [
    "### Importing csv files in the target tables by using copy"
   ]
  },
  {
   "cell_type": "code",
   "execution_count": 7,
   "metadata": {},
   "outputs": [
    {
     "name": "stdout",
     "output_type": "stream",
     "text": [
      " * postgresql://localhost/ea_test\n",
      "17981 rows affected.\n"
     ]
    },
    {
     "data": {
      "text/plain": [
       "[]"
      ]
     },
     "execution_count": 7,
     "metadata": {},
     "output_type": "execute_result"
    }
   ],
   "source": [
    "%%sql\n",
    "copy player_attribute( PK,Acceleration,Aggression,Agility,Balance,Ball_control,Composure,Crossing,Curve,Dribbling,Finishing,Free_kick_accuracy,GK_diving,GK_handling,GK_kicking,GK_positioning,GK_reflexes,Heading_accuracy,ID,Interceptions,Jumping,Long_passing,Long_shots,Marking,Penalties,Positioning,Reactions,Short_passing,Shot_power,Sliding_tackle,Sprint_speed,Stamina,Standing_tackle,Strength,Vision,Volleys )\n",
    "FROM '..\\data\\PlayerAttributeData.csv' DELIMITER ',' CSV HEADER ;\n"
   ]
  },
  {
   "cell_type": "code",
   "execution_count": 8,
   "metadata": {},
   "outputs": [
    {
     "name": "stdout",
     "output_type": "stream",
     "text": [
      " * postgresql://localhost/ea_test\n",
      "17981 rows affected.\n"
     ]
    },
    {
     "data": {
      "text/plain": [
       "[]"
      ]
     },
     "execution_count": 8,
     "metadata": {},
     "output_type": "execute_result"
    }
   ],
   "source": [
    "%%sql \n",
    "copy player_personal(PK,Unnamed,ID,Name,Age,Photo,Nationality,Flag,Overall,Potential,Club,Club_Logo,Value,Wage,Special)\n",
    "FROM '..\\data\\PlayerPersonalData.csv' DELIMITER ',' CSV HEADER ;\n"
   ]
  },
  {
   "cell_type": "code",
   "execution_count": 9,
   "metadata": {},
   "outputs": [
    {
     "name": "stdout",
     "output_type": "stream",
     "text": [
      " * postgresql://localhost/ea_test\n",
      "17981 rows affected.\n"
     ]
    },
    {
     "data": {
      "text/plain": [
       "[]"
      ]
     },
     "execution_count": 9,
     "metadata": {},
     "output_type": "execute_result"
    }
   ],
   "source": [
    "%%sql\n",
    "copy player_playing_position(PK,CAM,CB,CDM,CF,CM,ID,LAM,LB,LCB,LCM,LDM,LF,LM,LS,LW,LWB,Preferred_Positions,RAM,RB,RCB,RCM,RDM,RF,RM,RS,RW,RWB,ST)\n",
    "FROM '..\\data\\PlayerPlayingPositionData.csv' DELIMITER ',' CSV HEADER ;"
   ]
  },
  {
   "cell_type": "code",
   "execution_count": 10,
   "metadata": {},
   "outputs": [
    {
     "name": "stdout",
     "output_type": "stream",
     "text": [
      " * postgresql://localhost/ea_test\n",
      "Done.\n"
     ]
    },
    {
     "data": {
      "text/plain": [
       "[]"
      ]
     },
     "execution_count": 10,
     "metadata": {},
     "output_type": "execute_result"
    }
   ],
   "source": [
    "%%sql \n",
    "commit;"
   ]
  },
  {
   "cell_type": "markdown",
   "metadata": {},
   "source": [
    "### Now we can run queries over the data model, joining tables by ID"
   ]
  },
  {
   "cell_type": "code",
   "execution_count": 11,
   "metadata": {},
   "outputs": [
    {
     "name": "stdout",
     "output_type": "stream",
     "text": [
      " * postgresql://localhost/ea_test\n",
      "5 rows affected.\n"
     ]
    },
    {
     "data": {
      "text/html": [
       "<table>\n",
       "    <tr>\n",
       "        <th>pk</th>\n",
       "        <th>unnamed</th>\n",
       "        <th>id</th>\n",
       "        <th>name</th>\n",
       "        <th>age</th>\n",
       "        <th>photo</th>\n",
       "        <th>nationality</th>\n",
       "        <th>flag</th>\n",
       "        <th>overall</th>\n",
       "        <th>potential</th>\n",
       "        <th>club</th>\n",
       "        <th>club_logo</th>\n",
       "        <th>value</th>\n",
       "        <th>wage</th>\n",
       "        <th>special</th>\n",
       "        <th>pk_1</th>\n",
       "        <th>acceleration</th>\n",
       "        <th>aggression</th>\n",
       "        <th>agility</th>\n",
       "        <th>balance</th>\n",
       "        <th>ball_control</th>\n",
       "        <th>composure</th>\n",
       "        <th>crossing</th>\n",
       "        <th>curve</th>\n",
       "        <th>dribbling</th>\n",
       "        <th>finishing</th>\n",
       "        <th>free_kick_accuracy</th>\n",
       "        <th>gk_diving</th>\n",
       "        <th>gk_handling</th>\n",
       "        <th>gk_kicking</th>\n",
       "        <th>gk_positioning</th>\n",
       "        <th>gk_reflexes</th>\n",
       "        <th>heading_accuracy</th>\n",
       "        <th>id_1</th>\n",
       "        <th>interceptions</th>\n",
       "        <th>jumping</th>\n",
       "        <th>long_passing</th>\n",
       "        <th>long_shots</th>\n",
       "        <th>marking</th>\n",
       "        <th>penalties</th>\n",
       "        <th>positioning</th>\n",
       "        <th>reactions</th>\n",
       "        <th>short_passing</th>\n",
       "        <th>shot_power</th>\n",
       "        <th>sliding_tackle</th>\n",
       "        <th>sprint_speed</th>\n",
       "        <th>stamina</th>\n",
       "        <th>standing_tackle</th>\n",
       "        <th>strength</th>\n",
       "        <th>vision</th>\n",
       "        <th>volleys</th>\n",
       "    </tr>\n",
       "    <tr>\n",
       "        <td>1</td>\n",
       "        <td>1</td>\n",
       "        <td>158023</td>\n",
       "        <td>L. Messi</td>\n",
       "        <td>30</td>\n",
       "        <td>https://cdn.sofifa.org/48/18/players/158023.png</td>\n",
       "        <td>Argentina</td>\n",
       "        <td>https://cdn.sofifa.org/flags/52.png</td>\n",
       "        <td>93</td>\n",
       "        <td>93</td>\n",
       "        <td>FC Barcelona</td>\n",
       "        <td>https://cdn.sofifa.org/24/18/teams/241.png</td>\n",
       "        <td>â‚¬105M</td>\n",
       "        <td>â‚¬565K</td>\n",
       "        <td>2154</td>\n",
       "        <td>1</td>\n",
       "        <td>92</td>\n",
       "        <td>48</td>\n",
       "        <td>90</td>\n",
       "        <td>95</td>\n",
       "        <td>95</td>\n",
       "        <td>96</td>\n",
       "        <td>77</td>\n",
       "        <td>89</td>\n",
       "        <td>97</td>\n",
       "        <td>95</td>\n",
       "        <td>90</td>\n",
       "        <td>6</td>\n",
       "        <td>11</td>\n",
       "        <td>15</td>\n",
       "        <td>14</td>\n",
       "        <td>8</td>\n",
       "        <td>71</td>\n",
       "        <td>158023</td>\n",
       "        <td>22</td>\n",
       "        <td>68</td>\n",
       "        <td>87</td>\n",
       "        <td>88</td>\n",
       "        <td>13</td>\n",
       "        <td>74</td>\n",
       "        <td>93</td>\n",
       "        <td>95</td>\n",
       "        <td>88</td>\n",
       "        <td>85</td>\n",
       "        <td>26</td>\n",
       "        <td>87</td>\n",
       "        <td>73</td>\n",
       "        <td>28</td>\n",
       "        <td>59</td>\n",
       "        <td>90</td>\n",
       "        <td>85</td>\n",
       "    </tr>\n",
       "    <tr>\n",
       "        <td>2</td>\n",
       "        <td>2</td>\n",
       "        <td>190871</td>\n",
       "        <td>Neymar</td>\n",
       "        <td>25</td>\n",
       "        <td>https://cdn.sofifa.org/48/18/players/190871.png</td>\n",
       "        <td>Brazil</td>\n",
       "        <td>https://cdn.sofifa.org/flags/54.png</td>\n",
       "        <td>92</td>\n",
       "        <td>94</td>\n",
       "        <td>Paris Saint-Germain</td>\n",
       "        <td>https://cdn.sofifa.org/24/18/teams/73.png</td>\n",
       "        <td>â‚¬123M</td>\n",
       "        <td>â‚¬280K</td>\n",
       "        <td>2100</td>\n",
       "        <td>2</td>\n",
       "        <td>94</td>\n",
       "        <td>56</td>\n",
       "        <td>96</td>\n",
       "        <td>82</td>\n",
       "        <td>95</td>\n",
       "        <td>92</td>\n",
       "        <td>75</td>\n",
       "        <td>81</td>\n",
       "        <td>96</td>\n",
       "        <td>89</td>\n",
       "        <td>84</td>\n",
       "        <td>9</td>\n",
       "        <td>9</td>\n",
       "        <td>15</td>\n",
       "        <td>15</td>\n",
       "        <td>11</td>\n",
       "        <td>62</td>\n",
       "        <td>190871</td>\n",
       "        <td>36</td>\n",
       "        <td>61</td>\n",
       "        <td>75</td>\n",
       "        <td>77</td>\n",
       "        <td>21</td>\n",
       "        <td>81</td>\n",
       "        <td>90</td>\n",
       "        <td>88</td>\n",
       "        <td>81</td>\n",
       "        <td>80</td>\n",
       "        <td>33</td>\n",
       "        <td>90</td>\n",
       "        <td>78</td>\n",
       "        <td>24</td>\n",
       "        <td>53</td>\n",
       "        <td>80</td>\n",
       "        <td>83</td>\n",
       "    </tr>\n",
       "    <tr>\n",
       "        <td>3</td>\n",
       "        <td>3</td>\n",
       "        <td>176580</td>\n",
       "        <td>L. SuÃ¡rez</td>\n",
       "        <td>30</td>\n",
       "        <td>https://cdn.sofifa.org/48/18/players/176580.png</td>\n",
       "        <td>Uruguay</td>\n",
       "        <td>https://cdn.sofifa.org/flags/60.png</td>\n",
       "        <td>92</td>\n",
       "        <td>92</td>\n",
       "        <td>FC Barcelona</td>\n",
       "        <td>https://cdn.sofifa.org/24/18/teams/241.png</td>\n",
       "        <td>â‚¬97M</td>\n",
       "        <td>â‚¬510K</td>\n",
       "        <td>2291</td>\n",
       "        <td>3</td>\n",
       "        <td>88</td>\n",
       "        <td>78</td>\n",
       "        <td>86</td>\n",
       "        <td>60</td>\n",
       "        <td>91</td>\n",
       "        <td>83</td>\n",
       "        <td>77</td>\n",
       "        <td>86</td>\n",
       "        <td>86</td>\n",
       "        <td>94</td>\n",
       "        <td>84</td>\n",
       "        <td>27</td>\n",
       "        <td>25</td>\n",
       "        <td>31</td>\n",
       "        <td>33</td>\n",
       "        <td>37</td>\n",
       "        <td>77</td>\n",
       "        <td>176580</td>\n",
       "        <td>41</td>\n",
       "        <td>69</td>\n",
       "        <td>64</td>\n",
       "        <td>86</td>\n",
       "        <td>30</td>\n",
       "        <td>85</td>\n",
       "        <td>92</td>\n",
       "        <td>93</td>\n",
       "        <td>83</td>\n",
       "        <td>87</td>\n",
       "        <td>38</td>\n",
       "        <td>77</td>\n",
       "        <td>89</td>\n",
       "        <td>45</td>\n",
       "        <td>80</td>\n",
       "        <td>84</td>\n",
       "        <td>88</td>\n",
       "    </tr>\n",
       "    <tr>\n",
       "        <td>5</td>\n",
       "        <td>5</td>\n",
       "        <td>188545</td>\n",
       "        <td>R. Lewandowski</td>\n",
       "        <td>28</td>\n",
       "        <td>https://cdn.sofifa.org/48/18/players/188545.png</td>\n",
       "        <td>Poland</td>\n",
       "        <td>https://cdn.sofifa.org/flags/37.png</td>\n",
       "        <td>91</td>\n",
       "        <td>91</td>\n",
       "        <td>FC Bayern Munich</td>\n",
       "        <td>https://cdn.sofifa.org/24/18/teams/21.png</td>\n",
       "        <td>â‚¬92M</td>\n",
       "        <td>â‚¬355K</td>\n",
       "        <td>2143</td>\n",
       "        <td>5</td>\n",
       "        <td>79</td>\n",
       "        <td>80</td>\n",
       "        <td>78</td>\n",
       "        <td>80</td>\n",
       "        <td>89</td>\n",
       "        <td>87</td>\n",
       "        <td>62</td>\n",
       "        <td>77</td>\n",
       "        <td>85</td>\n",
       "        <td>91</td>\n",
       "        <td>84</td>\n",
       "        <td>15</td>\n",
       "        <td>6</td>\n",
       "        <td>12</td>\n",
       "        <td>8</td>\n",
       "        <td>10</td>\n",
       "        <td>85</td>\n",
       "        <td>188545</td>\n",
       "        <td>39</td>\n",
       "        <td>84</td>\n",
       "        <td>65</td>\n",
       "        <td>83</td>\n",
       "        <td>25</td>\n",
       "        <td>81</td>\n",
       "        <td>91</td>\n",
       "        <td>91</td>\n",
       "        <td>83</td>\n",
       "        <td>88</td>\n",
       "        <td>19</td>\n",
       "        <td>83</td>\n",
       "        <td>79</td>\n",
       "        <td>42</td>\n",
       "        <td>84</td>\n",
       "        <td>78</td>\n",
       "        <td>87</td>\n",
       "    </tr>\n",
       "    <tr>\n",
       "        <td>8</td>\n",
       "        <td>8</td>\n",
       "        <td>182521</td>\n",
       "        <td>T. Kroos</td>\n",
       "        <td>27</td>\n",
       "        <td>https://cdn.sofifa.org/48/18/players/182521.png</td>\n",
       "        <td>Germany</td>\n",
       "        <td>https://cdn.sofifa.org/flags/21.png</td>\n",
       "        <td>90</td>\n",
       "        <td>90</td>\n",
       "        <td>Real Madrid CF</td>\n",
       "        <td>https://cdn.sofifa.org/24/18/teams/243.png</td>\n",
       "        <td>â‚¬79M</td>\n",
       "        <td>â‚¬340K</td>\n",
       "        <td>2165</td>\n",
       "        <td>8</td>\n",
       "        <td>60</td>\n",
       "        <td>60</td>\n",
       "        <td>71</td>\n",
       "        <td>69</td>\n",
       "        <td>89</td>\n",
       "        <td>85</td>\n",
       "        <td>85</td>\n",
       "        <td>85</td>\n",
       "        <td>79</td>\n",
       "        <td>76</td>\n",
       "        <td>84</td>\n",
       "        <td>10</td>\n",
       "        <td>11</td>\n",
       "        <td>13</td>\n",
       "        <td>7</td>\n",
       "        <td>10</td>\n",
       "        <td>54</td>\n",
       "        <td>182521</td>\n",
       "        <td>85</td>\n",
       "        <td>32</td>\n",
       "        <td>93</td>\n",
       "        <td>90</td>\n",
       "        <td>63</td>\n",
       "        <td>73</td>\n",
       "        <td>79</td>\n",
       "        <td>86</td>\n",
       "        <td>90</td>\n",
       "        <td>87</td>\n",
       "        <td>69</td>\n",
       "        <td>52</td>\n",
       "        <td>77</td>\n",
       "        <td>82</td>\n",
       "        <td>74</td>\n",
       "        <td>88</td>\n",
       "        <td>82</td>\n",
       "    </tr>\n",
       "</table>"
      ],
      "text/plain": [
       "[(1, '1', '158023', 'L. Messi', '30', 'https://cdn.sofifa.org/48/18/players/158023.png', 'Argentina', 'https://cdn.sofifa.org/flags/52.png', '93', '93', 'FC Barcelona', 'https://cdn.sofifa.org/24/18/teams/241.png', 'â‚¬105M', 'â‚¬565K', '2154', 1, '92', '48', '90', '95', '95', '96', '77', '89', '97', '95', '90', '6', '11', '15', '14', '8', '71', '158023', '22', '68', '87', '88', '13', '74', '93', '95', '88', '85', '26', '87', '73', '28', '59', '90', '85'),\n",
       " (2, '2', '190871', 'Neymar', '25', 'https://cdn.sofifa.org/48/18/players/190871.png', 'Brazil', 'https://cdn.sofifa.org/flags/54.png', '92', '94', 'Paris Saint-Germain', 'https://cdn.sofifa.org/24/18/teams/73.png', 'â‚¬123M', 'â‚¬280K', '2100', 2, '94', '56', '96', '82', '95', '92', '75', '81', '96', '89', '84', '9', '9', '15', '15', '11', '62', '190871', '36', '61', '75', '77', '21', '81', '90', '88', '81', '80', '33', '90', '78', '24', '53', '80', '83'),\n",
       " (3, '3', '176580', 'L. SuÃ¡rez', '30', 'https://cdn.sofifa.org/48/18/players/176580.png', 'Uruguay', 'https://cdn.sofifa.org/flags/60.png', '92', '92', 'FC Barcelona', 'https://cdn.sofifa.org/24/18/teams/241.png', 'â‚¬97M', 'â‚¬510K', '2291', 3, '88', '78', '86', '60', '91', '83', '77', '86', '86', '94', '84', '27', '25', '31', '33', '37', '77', '176580', '41', '69', '64', '86', '30', '85', '92', '93', '83', '87', '38', '77', '89', '45', '80', '84', '88'),\n",
       " (5, '5', '188545', 'R. Lewandowski', '28', 'https://cdn.sofifa.org/48/18/players/188545.png', 'Poland', 'https://cdn.sofifa.org/flags/37.png', '91', '91', 'FC Bayern Munich', 'https://cdn.sofifa.org/24/18/teams/21.png', 'â‚¬92M', 'â‚¬355K', '2143', 5, '79', '80', '78', '80', '89', '87', '62', '77', '85', '91', '84', '15', '6', '12', '8', '10', '85', '188545', '39', '84', '65', '83', '25', '81', '91', '91', '83', '88', '19', '83', '79', '42', '84', '78', '87'),\n",
       " (8, '8', '182521', 'T. Kroos', '27', 'https://cdn.sofifa.org/48/18/players/182521.png', 'Germany', 'https://cdn.sofifa.org/flags/21.png', '90', '90', 'Real Madrid CF', 'https://cdn.sofifa.org/24/18/teams/243.png', 'â‚¬79M', 'â‚¬340K', '2165', 8, '60', '60', '71', '69', '89', '85', '85', '85', '79', '76', '84', '10', '11', '13', '7', '10', '54', '182521', '85', '32', '93', '90', '63', '73', '79', '86', '90', '87', '69', '52', '77', '82', '74', '88', '82')]"
      ]
     },
     "execution_count": 11,
     "metadata": {},
     "output_type": "execute_result"
    }
   ],
   "source": [
    "%%sql \n",
    "select * from player_personal a inner join  player_attribute b on a.id=b.id   LIMIT 5;"
   ]
  },
  {
   "cell_type": "code",
   "execution_count": 12,
   "metadata": {},
   "outputs": [
    {
     "name": "stdout",
     "output_type": "stream",
     "text": [
      " * postgresql://localhost/ea_test\n",
      "20 rows affected.\n"
     ]
    },
    {
     "data": {
      "text/html": [
       "<table>\n",
       "    <tr>\n",
       "        <th>nationality</th>\n",
       "        <th>club</th>\n",
       "        <th>number_players</th>\n",
       "    </tr>\n",
       "    <tr>\n",
       "        <td>Spain</td>\n",
       "        <td>CA Osasuna</td>\n",
       "        <td>27</td>\n",
       "    </tr>\n",
       "    <tr>\n",
       "        <td>Spain</td>\n",
       "        <td>Athletic Club de Bilbao</td>\n",
       "        <td>26</td>\n",
       "    </tr>\n",
       "    <tr>\n",
       "        <td>Spain</td>\n",
       "        <td>Real Valladolid</td>\n",
       "        <td>25</td>\n",
       "    </tr>\n",
       "    <tr>\n",
       "        <td>Spain</td>\n",
       "        <td>Lorca Deportiva CF</td>\n",
       "        <td>25</td>\n",
       "    </tr>\n",
       "    <tr>\n",
       "        <td>Spain</td>\n",
       "        <td>UD Las Palmas</td>\n",
       "        <td>25</td>\n",
       "    </tr>\n",
       "    <tr>\n",
       "        <td>Spain</td>\n",
       "        <td>Real Sporting de GijÃ³n</td>\n",
       "        <td>24</td>\n",
       "    </tr>\n",
       "    <tr>\n",
       "        <td>Spain</td>\n",
       "        <td>CD Lugo</td>\n",
       "        <td>24</td>\n",
       "    </tr>\n",
       "    <tr>\n",
       "        <td>Spain</td>\n",
       "        <td>RCD Espanyol</td>\n",
       "        <td>24</td>\n",
       "    </tr>\n",
       "    <tr>\n",
       "        <td>Spain</td>\n",
       "        <td>Levante UD</td>\n",
       "        <td>24</td>\n",
       "    </tr>\n",
       "    <tr>\n",
       "        <td>Spain</td>\n",
       "        <td>Real Sociedad</td>\n",
       "        <td>24</td>\n",
       "    </tr>\n",
       "    <tr>\n",
       "        <td>Spain</td>\n",
       "        <td>FC Barcelona B</td>\n",
       "        <td>24</td>\n",
       "    </tr>\n",
       "    <tr>\n",
       "        <td>Spain</td>\n",
       "        <td>SD Eibar</td>\n",
       "        <td>24</td>\n",
       "    </tr>\n",
       "    <tr>\n",
       "        <td>Spain</td>\n",
       "        <td>CD Numancia</td>\n",
       "        <td>23</td>\n",
       "    </tr>\n",
       "    <tr>\n",
       "        <td>Spain</td>\n",
       "        <td>CÃ³rdoba CF</td>\n",
       "        <td>23</td>\n",
       "    </tr>\n",
       "    <tr>\n",
       "        <td>Spain</td>\n",
       "        <td>Sevilla AtlÃ©tico</td>\n",
       "        <td>22</td>\n",
       "    </tr>\n",
       "    <tr>\n",
       "        <td>Spain</td>\n",
       "        <td>AD AlcorcÃ³n</td>\n",
       "        <td>22</td>\n",
       "    </tr>\n",
       "    <tr>\n",
       "        <td>Spain</td>\n",
       "        <td>CD Tenerife</td>\n",
       "        <td>22</td>\n",
       "    </tr>\n",
       "    <tr>\n",
       "        <td>Spain</td>\n",
       "        <td>Real Zaragoza</td>\n",
       "        <td>22</td>\n",
       "    </tr>\n",
       "    <tr>\n",
       "        <td>Spain</td>\n",
       "        <td>CÃ¡diz C.F.</td>\n",
       "        <td>22</td>\n",
       "    </tr>\n",
       "    <tr>\n",
       "        <td>Spain</td>\n",
       "        <td>Deportivo AlavÃ©s</td>\n",
       "        <td>22</td>\n",
       "    </tr>\n",
       "</table>"
      ],
      "text/plain": [
       "[('Spain', 'CA Osasuna', 27),\n",
       " ('Spain', 'Athletic Club de Bilbao', 26),\n",
       " ('Spain', 'Real Valladolid', 25),\n",
       " ('Spain', 'Lorca Deportiva CF', 25),\n",
       " ('Spain', 'UD Las Palmas', 25),\n",
       " ('Spain', 'Real Sporting de GijÃ³n', 24),\n",
       " ('Spain', 'CD Lugo', 24),\n",
       " ('Spain', 'RCD Espanyol', 24),\n",
       " ('Spain', 'Levante UD', 24),\n",
       " ('Spain', 'Real Sociedad', 24),\n",
       " ('Spain', 'FC Barcelona B', 24),\n",
       " ('Spain', 'SD Eibar', 24),\n",
       " ('Spain', 'CD Numancia', 23),\n",
       " ('Spain', 'CÃ³rdoba CF', 23),\n",
       " ('Spain', 'Sevilla AtlÃ©tico', 22),\n",
       " ('Spain', 'AD AlcorcÃ³n', 22),\n",
       " ('Spain', 'CD Tenerife', 22),\n",
       " ('Spain', 'Real Zaragoza', 22),\n",
       " ('Spain', 'CÃ¡diz C.F.', 22),\n",
       " ('Spain', 'Deportivo AlavÃ©s', 22)]"
      ]
     },
     "execution_count": 12,
     "metadata": {},
     "output_type": "execute_result"
    }
   ],
   "source": [
    "%%sql\n",
    "SELECT  nationality, club, count (id) as number_players   \n",
    "FROM player_personal \n",
    "where nationality='Spain'\n",
    "group by nationality, club order by number_players DESC limit 20;"
   ]
  },
  {
   "cell_type": "code",
   "execution_count": 13,
   "metadata": {},
   "outputs": [
    {
     "name": "stdout",
     "output_type": "stream",
     "text": [
      " * postgresql://localhost/ea_test\n",
      "5 rows affected.\n"
     ]
    },
    {
     "data": {
      "text/html": [
       "<table>\n",
       "    <tr>\n",
       "        <th>nationality</th>\n",
       "        <th>max_age</th>\n",
       "        <th>min_age</th>\n",
       "        <th>num_players</th>\n",
       "    </tr>\n",
       "    <tr>\n",
       "        <td>Ecuador</td>\n",
       "        <td>37</td>\n",
       "        <td>19</td>\n",
       "        <td>37</td>\n",
       "    </tr>\n",
       "    <tr>\n",
       "        <td>Egypt</td>\n",
       "        <td>44</td>\n",
       "        <td>20</td>\n",
       "        <td>32</td>\n",
       "    </tr>\n",
       "    <tr>\n",
       "        <td>El Salvador</td>\n",
       "        <td>32</td>\n",
       "        <td>27</td>\n",
       "        <td>2</td>\n",
       "    </tr>\n",
       "    <tr>\n",
       "        <td>England</td>\n",
       "        <td>47</td>\n",
       "        <td>16</td>\n",
       "        <td>1632</td>\n",
       "    </tr>\n",
       "    <tr>\n",
       "        <td>Equatorial Guinea</td>\n",
       "        <td>32</td>\n",
       "        <td>20</td>\n",
       "        <td>6</td>\n",
       "    </tr>\n",
       "</table>"
      ],
      "text/plain": [
       "[('Ecuador', '37', '19', 37),\n",
       " ('Egypt', '44', '20', 32),\n",
       " ('El Salvador', '32', '27', 2),\n",
       " ('England', '47', '16', 1632),\n",
       " ('Equatorial Guinea', '32', '20', 6)]"
      ]
     },
     "execution_count": 13,
     "metadata": {},
     "output_type": "execute_result"
    }
   ],
   "source": [
    "%%sql \n",
    "select \n",
    "a.nationality, \n",
    "max(a.age)  as MAX_AGE, \n",
    "min(a.age)  as MIN_AGE, \n",
    "count(a.id) as num_players\n",
    "from \n",
    "player_personal a inner join  player_attribute b on a.id=b.id   \n",
    "where nationality like 'E%'\n",
    "group by a.nationality \n",
    "order by a.nationality ASC\n",
    "LIMIT 5;"
   ]
  },
  {
   "cell_type": "markdown",
   "metadata": {},
   "source": [
    "### SqlAlchemy Engine creation for cursors & exporting queries to pandas DataFrame"
   ]
  },
  {
   "cell_type": "code",
   "execution_count": 14,
   "metadata": {},
   "outputs": [],
   "source": [
    "\n",
    "engine = create_engine('postgresql://localhost/ea_test')\n"
   ]
  },
  {
   "cell_type": "markdown",
   "metadata": {},
   "source": [
    "### We can also use Pandas to create DataFrame from sql queries"
   ]
  },
  {
   "cell_type": "code",
   "execution_count": 15,
   "metadata": {},
   "outputs": [],
   "source": [
    "df_query = pd.read_sql('SELECT * FROM player_attribute', engine)"
   ]
  },
  {
   "cell_type": "code",
   "execution_count": 16,
   "metadata": {},
   "outputs": [
    {
     "data": {
      "text/html": [
       "<div>\n",
       "<style scoped>\n",
       "    .dataframe tbody tr th:only-of-type {\n",
       "        vertical-align: middle;\n",
       "    }\n",
       "\n",
       "    .dataframe tbody tr th {\n",
       "        vertical-align: top;\n",
       "    }\n",
       "\n",
       "    .dataframe thead th {\n",
       "        text-align: right;\n",
       "    }\n",
       "</style>\n",
       "<table border=\"1\" class=\"dataframe\">\n",
       "  <thead>\n",
       "    <tr style=\"text-align: right;\">\n",
       "      <th></th>\n",
       "      <th>pk</th>\n",
       "      <th>acceleration</th>\n",
       "      <th>aggression</th>\n",
       "      <th>agility</th>\n",
       "      <th>balance</th>\n",
       "      <th>ball_control</th>\n",
       "      <th>composure</th>\n",
       "      <th>crossing</th>\n",
       "      <th>curve</th>\n",
       "      <th>dribbling</th>\n",
       "      <th>...</th>\n",
       "      <th>reactions</th>\n",
       "      <th>short_passing</th>\n",
       "      <th>shot_power</th>\n",
       "      <th>sliding_tackle</th>\n",
       "      <th>sprint_speed</th>\n",
       "      <th>stamina</th>\n",
       "      <th>standing_tackle</th>\n",
       "      <th>strength</th>\n",
       "      <th>vision</th>\n",
       "      <th>volleys</th>\n",
       "    </tr>\n",
       "  </thead>\n",
       "  <tbody>\n",
       "    <tr>\n",
       "      <td>0</td>\n",
       "      <td>0</td>\n",
       "      <td>89</td>\n",
       "      <td>63</td>\n",
       "      <td>89</td>\n",
       "      <td>63</td>\n",
       "      <td>93</td>\n",
       "      <td>95</td>\n",
       "      <td>85</td>\n",
       "      <td>81</td>\n",
       "      <td>91</td>\n",
       "      <td>...</td>\n",
       "      <td>96</td>\n",
       "      <td>83</td>\n",
       "      <td>94</td>\n",
       "      <td>23</td>\n",
       "      <td>91</td>\n",
       "      <td>92</td>\n",
       "      <td>31</td>\n",
       "      <td>80</td>\n",
       "      <td>85</td>\n",
       "      <td>88</td>\n",
       "    </tr>\n",
       "    <tr>\n",
       "      <td>1</td>\n",
       "      <td>1</td>\n",
       "      <td>92</td>\n",
       "      <td>48</td>\n",
       "      <td>90</td>\n",
       "      <td>95</td>\n",
       "      <td>95</td>\n",
       "      <td>96</td>\n",
       "      <td>77</td>\n",
       "      <td>89</td>\n",
       "      <td>97</td>\n",
       "      <td>...</td>\n",
       "      <td>95</td>\n",
       "      <td>88</td>\n",
       "      <td>85</td>\n",
       "      <td>26</td>\n",
       "      <td>87</td>\n",
       "      <td>73</td>\n",
       "      <td>28</td>\n",
       "      <td>59</td>\n",
       "      <td>90</td>\n",
       "      <td>85</td>\n",
       "    </tr>\n",
       "    <tr>\n",
       "      <td>2</td>\n",
       "      <td>2</td>\n",
       "      <td>94</td>\n",
       "      <td>56</td>\n",
       "      <td>96</td>\n",
       "      <td>82</td>\n",
       "      <td>95</td>\n",
       "      <td>92</td>\n",
       "      <td>75</td>\n",
       "      <td>81</td>\n",
       "      <td>96</td>\n",
       "      <td>...</td>\n",
       "      <td>88</td>\n",
       "      <td>81</td>\n",
       "      <td>80</td>\n",
       "      <td>33</td>\n",
       "      <td>90</td>\n",
       "      <td>78</td>\n",
       "      <td>24</td>\n",
       "      <td>53</td>\n",
       "      <td>80</td>\n",
       "      <td>83</td>\n",
       "    </tr>\n",
       "    <tr>\n",
       "      <td>3</td>\n",
       "      <td>3</td>\n",
       "      <td>88</td>\n",
       "      <td>78</td>\n",
       "      <td>86</td>\n",
       "      <td>60</td>\n",
       "      <td>91</td>\n",
       "      <td>83</td>\n",
       "      <td>77</td>\n",
       "      <td>86</td>\n",
       "      <td>86</td>\n",
       "      <td>...</td>\n",
       "      <td>93</td>\n",
       "      <td>83</td>\n",
       "      <td>87</td>\n",
       "      <td>38</td>\n",
       "      <td>77</td>\n",
       "      <td>89</td>\n",
       "      <td>45</td>\n",
       "      <td>80</td>\n",
       "      <td>84</td>\n",
       "      <td>88</td>\n",
       "    </tr>\n",
       "    <tr>\n",
       "      <td>4</td>\n",
       "      <td>4</td>\n",
       "      <td>58</td>\n",
       "      <td>29</td>\n",
       "      <td>52</td>\n",
       "      <td>35</td>\n",
       "      <td>48</td>\n",
       "      <td>70</td>\n",
       "      <td>15</td>\n",
       "      <td>14</td>\n",
       "      <td>30</td>\n",
       "      <td>...</td>\n",
       "      <td>85</td>\n",
       "      <td>55</td>\n",
       "      <td>25</td>\n",
       "      <td>11</td>\n",
       "      <td>61</td>\n",
       "      <td>44</td>\n",
       "      <td>10</td>\n",
       "      <td>83</td>\n",
       "      <td>70</td>\n",
       "      <td>11</td>\n",
       "    </tr>\n",
       "  </tbody>\n",
       "</table>\n",
       "<p>5 rows × 36 columns</p>\n",
       "</div>"
      ],
      "text/plain": [
       "   pk acceleration aggression agility balance ball_control composure crossing  \\\n",
       "0   0           89         63      89      63           93        95       85   \n",
       "1   1           92         48      90      95           95        96       77   \n",
       "2   2           94         56      96      82           95        92       75   \n",
       "3   3           88         78      86      60           91        83       77   \n",
       "4   4           58         29      52      35           48        70       15   \n",
       "\n",
       "  curve dribbling  ... reactions short_passing shot_power sliding_tackle  \\\n",
       "0    81        91  ...        96            83         94             23   \n",
       "1    89        97  ...        95            88         85             26   \n",
       "2    81        96  ...        88            81         80             33   \n",
       "3    86        86  ...        93            83         87             38   \n",
       "4    14        30  ...        85            55         25             11   \n",
       "\n",
       "  sprint_speed stamina standing_tackle strength vision volleys  \n",
       "0           91      92              31       80     85      88  \n",
       "1           87      73              28       59     90      85  \n",
       "2           90      78              24       53     80      83  \n",
       "3           77      89              45       80     84      88  \n",
       "4           61      44              10       83     70      11  \n",
       "\n",
       "[5 rows x 36 columns]"
      ]
     },
     "execution_count": 16,
     "metadata": {},
     "output_type": "execute_result"
    }
   ],
   "source": [
    "df_query.head()"
   ]
  },
  {
   "cell_type": "code",
   "execution_count": null,
   "metadata": {},
   "outputs": [],
   "source": []
  }
 ],
 "metadata": {
  "kernelspec": {
   "display_name": "Python 3",
   "language": "python",
   "name": "python3"
  },
  "language_info": {
   "codemirror_mode": {
    "name": "ipython",
    "version": 3
   },
   "file_extension": ".py",
   "mimetype": "text/x-python",
   "name": "python",
   "nbconvert_exporter": "python",
   "pygments_lexer": "ipython3",
   "version": "3.6.9"
  }
 },
 "nbformat": 4,
 "nbformat_minor": 2
}
