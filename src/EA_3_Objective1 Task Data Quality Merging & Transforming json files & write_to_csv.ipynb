{
 "cells": [
  {
   "cell_type": "markdown",
   "metadata": {},
   "source": [
    "## EA 3 Object 1\n",
    "## Upload json files, transform, merge and export to csv files\n",
    "\n"
   ]
  },
  {
   "cell_type": "markdown",
   "metadata": {},
   "source": [
    "### Importing necessary libraries"
   ]
  },
  {
   "cell_type": "code",
   "execution_count": 1,
   "metadata": {},
   "outputs": [],
   "source": [
    "import pandas as pd\n",
    "import json\n",
    "import csv\n",
    "import warnings; warnings.simplefilter('ignore')"
   ]
  },
  {
   "cell_type": "markdown",
   "metadata": {},
   "source": [
    "### Importing Json files in Pandas Dataframe"
   ]
  },
  {
   "cell_type": "code",
   "execution_count": 2,
   "metadata": {},
   "outputs": [],
   "source": [
    "df_countries = pd.read_json('..\\data\\countries.json', encoding='LATIN1')\n",
    "df_languages = pd.read_json('..\\data\\languages.json', encoding='LATIN1')"
   ]
  },
  {
   "cell_type": "markdown",
   "metadata": {},
   "source": [
    "### Transponding the previous DataFrames"
   ]
  },
  {
   "cell_type": "code",
   "execution_count": 3,
   "metadata": {},
   "outputs": [],
   "source": [
    "df_countries_2 = df_countries.T\n",
    "df_languages_2 = df_languages.T"
   ]
  },
  {
   "cell_type": "markdown",
   "metadata": {},
   "source": [
    "### Creating some headers dataframes that will help us parsing and structuring complete dataframe from json files"
   ]
  },
  {
   "cell_type": "code",
   "execution_count": 4,
   "metadata": {},
   "outputs": [],
   "source": [
    "df_header_c = pd.DataFrame(columns=[\"country\"])\n",
    "for line in list(df_countries[:0]):\n",
    "    x = str(line)\n",
    "    df_header_c = df_header_c.append({\"country\": x}, ignore_index=True)\n",
    "       "
   ]
  },
  {
   "cell_type": "code",
   "execution_count": 5,
   "metadata": {},
   "outputs": [],
   "source": [
    "df_header_l = pd.DataFrame(columns=[\"country\"])\n",
    "for line in list(df_languages[:0]):\n",
    "    x = str(line)\n",
    "    df_header_l = df_header_l.append({\"country\": x}, ignore_index=True)\n"
   ]
  },
  {
   "cell_type": "code",
   "execution_count": 6,
   "metadata": {},
   "outputs": [
    {
     "data": {
      "text/html": [
       "<div>\n",
       "<style scoped>\n",
       "    .dataframe tbody tr th:only-of-type {\n",
       "        vertical-align: middle;\n",
       "    }\n",
       "\n",
       "    .dataframe tbody tr th {\n",
       "        vertical-align: top;\n",
       "    }\n",
       "\n",
       "    .dataframe thead th {\n",
       "        text-align: right;\n",
       "    }\n",
       "</style>\n",
       "<table border=\"1\" class=\"dataframe\">\n",
       "  <thead>\n",
       "    <tr style=\"text-align: right;\">\n",
       "      <th></th>\n",
       "      <th>country</th>\n",
       "    </tr>\n",
       "  </thead>\n",
       "  <tbody>\n",
       "    <tr>\n",
       "      <td>0</td>\n",
       "      <td>AD</td>\n",
       "    </tr>\n",
       "    <tr>\n",
       "      <td>1</td>\n",
       "      <td>AE</td>\n",
       "    </tr>\n",
       "    <tr>\n",
       "      <td>2</td>\n",
       "      <td>AF</td>\n",
       "    </tr>\n",
       "    <tr>\n",
       "      <td>3</td>\n",
       "      <td>AG</td>\n",
       "    </tr>\n",
       "    <tr>\n",
       "      <td>4</td>\n",
       "      <td>AI</td>\n",
       "    </tr>\n",
       "  </tbody>\n",
       "</table>\n",
       "</div>"
      ],
      "text/plain": [
       "  country\n",
       "0      AD\n",
       "1      AE\n",
       "2      AF\n",
       "3      AG\n",
       "4      AI"
      ]
     },
     "execution_count": 6,
     "metadata": {},
     "output_type": "execute_result"
    }
   ],
   "source": [
    "df_header_c.head()"
   ]
  },
  {
   "cell_type": "code",
   "execution_count": 7,
   "metadata": {},
   "outputs": [
    {
     "data": {
      "text/html": [
       "<div>\n",
       "<style scoped>\n",
       "    .dataframe tbody tr th:only-of-type {\n",
       "        vertical-align: middle;\n",
       "    }\n",
       "\n",
       "    .dataframe tbody tr th {\n",
       "        vertical-align: top;\n",
       "    }\n",
       "\n",
       "    .dataframe thead th {\n",
       "        text-align: right;\n",
       "    }\n",
       "</style>\n",
       "<table border=\"1\" class=\"dataframe\">\n",
       "  <thead>\n",
       "    <tr style=\"text-align: right;\">\n",
       "      <th></th>\n",
       "      <th>country</th>\n",
       "    </tr>\n",
       "  </thead>\n",
       "  <tbody>\n",
       "    <tr>\n",
       "      <td>0</td>\n",
       "      <td>aa</td>\n",
       "    </tr>\n",
       "    <tr>\n",
       "      <td>1</td>\n",
       "      <td>ab</td>\n",
       "    </tr>\n",
       "    <tr>\n",
       "      <td>2</td>\n",
       "      <td>af</td>\n",
       "    </tr>\n",
       "    <tr>\n",
       "      <td>3</td>\n",
       "      <td>ak</td>\n",
       "    </tr>\n",
       "    <tr>\n",
       "      <td>4</td>\n",
       "      <td>am</td>\n",
       "    </tr>\n",
       "  </tbody>\n",
       "</table>\n",
       "</div>"
      ],
      "text/plain": [
       "  country\n",
       "0      aa\n",
       "1      ab\n",
       "2      af\n",
       "3      ak\n",
       "4      am"
      ]
     },
     "execution_count": 7,
     "metadata": {},
     "output_type": "execute_result"
    }
   ],
   "source": [
    "df_header_l.head()"
   ]
  },
  {
   "cell_type": "markdown",
   "metadata": {},
   "source": [
    "### Reseting indexes for all dataframes will allow us for adding ordered header as a new column"
   ]
  },
  {
   "cell_type": "code",
   "execution_count": 8,
   "metadata": {},
   "outputs": [],
   "source": [
    "df_countries_2.reset_index(drop=True, inplace=True)\n",
    "df_header_c.reset_index(drop=True, inplace=True)\n",
    "df_languages_2.reset_index(drop=True, inplace=True)\n",
    "df_header_l.reset_index(drop=True, inplace=True)"
   ]
  },
  {
   "cell_type": "markdown",
   "metadata": {},
   "source": [
    "### We add the new column \"country\" to the original datafrma"
   ]
  },
  {
   "cell_type": "code",
   "execution_count": 9,
   "metadata": {},
   "outputs": [],
   "source": [
    "df_countries_3 = pd.concat([df_countries_2, df_header_c], axis=1)\n",
    "df_languages_3 = pd.concat([df_languages_2, df_header_c], axis=1)"
   ]
  },
  {
   "cell_type": "code",
   "execution_count": 10,
   "metadata": {
    "scrolled": true
   },
   "outputs": [
    {
     "data": {
      "text/html": [
       "<div>\n",
       "<style scoped>\n",
       "    .dataframe tbody tr th:only-of-type {\n",
       "        vertical-align: middle;\n",
       "    }\n",
       "\n",
       "    .dataframe tbody tr th {\n",
       "        vertical-align: top;\n",
       "    }\n",
       "\n",
       "    .dataframe thead th {\n",
       "        text-align: right;\n",
       "    }\n",
       "</style>\n",
       "<table border=\"1\" class=\"dataframe\">\n",
       "  <thead>\n",
       "    <tr style=\"text-align: right;\">\n",
       "      <th></th>\n",
       "      <th>name</th>\n",
       "      <th>native</th>\n",
       "      <th>phone</th>\n",
       "      <th>continent</th>\n",
       "      <th>capital</th>\n",
       "      <th>currency</th>\n",
       "      <th>languages</th>\n",
       "      <th>country</th>\n",
       "    </tr>\n",
       "  </thead>\n",
       "  <tbody>\n",
       "    <tr>\n",
       "      <td>0</td>\n",
       "      <td>Andorra</td>\n",
       "      <td>Andorra</td>\n",
       "      <td>376</td>\n",
       "      <td>EU</td>\n",
       "      <td>Andorra la Vella</td>\n",
       "      <td>EUR</td>\n",
       "      <td>[ca]</td>\n",
       "      <td>AD</td>\n",
       "    </tr>\n",
       "    <tr>\n",
       "      <td>1</td>\n",
       "      <td>United Arab Emirates</td>\n",
       "      <td>Ø¯ÙÙØ© Ø§ÙØ¥Ù",
       "Ø§Ø±Ø§Øª Ø§ÙØ¹Ø±Ø¨ÙØ© Ø§ÙÙ...</td>\n",
       "      <td>971</td>\n",
       "      <td>AS</td>\n",
       "      <td>Abu Dhabi</td>\n",
       "      <td>AED</td>\n",
       "      <td>[ar]</td>\n",
       "      <td>AE</td>\n",
       "    </tr>\n",
       "    <tr>\n",
       "      <td>2</td>\n",
       "      <td>Afghanistan</td>\n",
       "      <td>Ø§ÙØºØ§ÙØ³ØªØ§Ù</td>\n",
       "      <td>93</td>\n",
       "      <td>AS</td>\n",
       "      <td>Kabul</td>\n",
       "      <td>AFN</td>\n",
       "      <td>[ps, uz, tk]</td>\n",
       "      <td>AF</td>\n",
       "    </tr>\n",
       "    <tr>\n",
       "      <td>3</td>\n",
       "      <td>Antigua and Barbuda</td>\n",
       "      <td>Antigua and Barbuda</td>\n",
       "      <td>1268</td>\n",
       "      <td>NA</td>\n",
       "      <td>Saint John's</td>\n",
       "      <td>XCD</td>\n",
       "      <td>[en]</td>\n",
       "      <td>AG</td>\n",
       "    </tr>\n",
       "    <tr>\n",
       "      <td>4</td>\n",
       "      <td>Anguilla</td>\n",
       "      <td>Anguilla</td>\n",
       "      <td>1264</td>\n",
       "      <td>NA</td>\n",
       "      <td>The Valley</td>\n",
       "      <td>XCD</td>\n",
       "      <td>[en]</td>\n",
       "      <td>AI</td>\n",
       "    </tr>\n",
       "  </tbody>\n",
       "</table>\n",
       "</div>"
      ],
      "text/plain": [
       "                   name                                             native  \\\n",
       "0               Andorra                                            Andorra   \n",
       "1  United Arab Emirates  Ø¯ÙÙØ© Ø§ÙØ¥Ù\n",
       "Ø§Ø±Ø§Øª Ø§ÙØ¹Ø±Ø¨ÙØ© Ø§ÙÙ...   \n",
       "2           Afghanistan                                 Ø§ÙØºØ§ÙØ³ØªØ§Ù   \n",
       "3   Antigua and Barbuda                                Antigua and Barbuda   \n",
       "4              Anguilla                                           Anguilla   \n",
       "\n",
       "  phone continent           capital currency     languages country  \n",
       "0   376        EU  Andorra la Vella      EUR          [ca]      AD  \n",
       "1   971        AS         Abu Dhabi      AED          [ar]      AE  \n",
       "2    93        AS             Kabul      AFN  [ps, uz, tk]      AF  \n",
       "3  1268        NA      Saint John's      XCD          [en]      AG  \n",
       "4  1264        NA        The Valley      XCD          [en]      AI  "
      ]
     },
     "execution_count": 10,
     "metadata": {},
     "output_type": "execute_result"
    }
   ],
   "source": [
    "df_countries_3.head()"
   ]
  },
  {
   "cell_type": "markdown",
   "metadata": {},
   "source": [
    "### Merging the previous dataframes : languages and countries by country"
   ]
  },
  {
   "cell_type": "code",
   "execution_count": 11,
   "metadata": {},
   "outputs": [],
   "source": [
    "df_merged = pd.merge(df_countries_3, df_languages_3, how='inner', on='country')"
   ]
  },
  {
   "cell_type": "markdown",
   "metadata": {},
   "source": [
    "### When merging, we generate duplicated namen columns _x _y\n",
    "### This piece of code filter those duplicates and rename columns to original naming"
   ]
  },
  {
   "cell_type": "code",
   "execution_count": 12,
   "metadata": {},
   "outputs": [],
   "source": [
    "# define our drop function\n",
    "def drop_y(df):\n",
    "    # list comprehension of the cols that end with '_y'\n",
    "    to_drop = [x for x in df if x.endswith('_y')]\n",
    "    df.drop(to_drop, axis=1, inplace=True)"
   ]
  },
  {
   "cell_type": "code",
   "execution_count": 13,
   "metadata": {},
   "outputs": [],
   "source": [
    "def rename_x(df):\n",
    "    for col in df:\n",
    "        if col.endswith('_x'):\n",
    "            df.rename(columns={col:col.rstrip('_x')}, inplace=True)"
   ]
  },
  {
   "cell_type": "code",
   "execution_count": 14,
   "metadata": {},
   "outputs": [],
   "source": [
    "drop_y(df_merged)\n",
    "rename_x(df_merged)"
   ]
  },
  {
   "cell_type": "markdown",
   "metadata": {},
   "source": [
    "### Creating a new dataframe with the columns needed"
   ]
  },
  {
   "cell_type": "code",
   "execution_count": 15,
   "metadata": {},
   "outputs": [],
   "source": [
    "df_merged_2 = df_merged[['name', 'continent', 'country','languages']]\n"
   ]
  },
  {
   "cell_type": "markdown",
   "metadata": {},
   "source": [
    "### As we can see, in the column languages we have lists of languages"
   ]
  },
  {
   "cell_type": "code",
   "execution_count": 16,
   "metadata": {},
   "outputs": [
    {
     "data": {
      "text/html": [
       "<div>\n",
       "<style scoped>\n",
       "    .dataframe tbody tr th:only-of-type {\n",
       "        vertical-align: middle;\n",
       "    }\n",
       "\n",
       "    .dataframe tbody tr th {\n",
       "        vertical-align: top;\n",
       "    }\n",
       "\n",
       "    .dataframe thead th {\n",
       "        text-align: right;\n",
       "    }\n",
       "</style>\n",
       "<table border=\"1\" class=\"dataframe\">\n",
       "  <thead>\n",
       "    <tr style=\"text-align: right;\">\n",
       "      <th></th>\n",
       "      <th>name</th>\n",
       "      <th>continent</th>\n",
       "      <th>country</th>\n",
       "      <th>languages</th>\n",
       "    </tr>\n",
       "  </thead>\n",
       "  <tbody>\n",
       "    <tr>\n",
       "      <td>0</td>\n",
       "      <td>Andorra</td>\n",
       "      <td>EU</td>\n",
       "      <td>AD</td>\n",
       "      <td>[ca]</td>\n",
       "    </tr>\n",
       "    <tr>\n",
       "      <td>1</td>\n",
       "      <td>United Arab Emirates</td>\n",
       "      <td>AS</td>\n",
       "      <td>AE</td>\n",
       "      <td>[ar]</td>\n",
       "    </tr>\n",
       "    <tr>\n",
       "      <td>2</td>\n",
       "      <td>Afghanistan</td>\n",
       "      <td>AS</td>\n",
       "      <td>AF</td>\n",
       "      <td>[ps, uz, tk]</td>\n",
       "    </tr>\n",
       "    <tr>\n",
       "      <td>3</td>\n",
       "      <td>Antigua and Barbuda</td>\n",
       "      <td>NA</td>\n",
       "      <td>AG</td>\n",
       "      <td>[en]</td>\n",
       "    </tr>\n",
       "    <tr>\n",
       "      <td>4</td>\n",
       "      <td>Anguilla</td>\n",
       "      <td>NA</td>\n",
       "      <td>AI</td>\n",
       "      <td>[en]</td>\n",
       "    </tr>\n",
       "    <tr>\n",
       "      <td>...</td>\n",
       "      <td>...</td>\n",
       "      <td>...</td>\n",
       "      <td>...</td>\n",
       "      <td>...</td>\n",
       "    </tr>\n",
       "    <tr>\n",
       "      <td>245</td>\n",
       "      <td>Yemen</td>\n",
       "      <td>AS</td>\n",
       "      <td>YE</td>\n",
       "      <td>[ar]</td>\n",
       "    </tr>\n",
       "    <tr>\n",
       "      <td>246</td>\n",
       "      <td>Mayotte</td>\n",
       "      <td>AF</td>\n",
       "      <td>YT</td>\n",
       "      <td>[fr]</td>\n",
       "    </tr>\n",
       "    <tr>\n",
       "      <td>247</td>\n",
       "      <td>South Africa</td>\n",
       "      <td>AF</td>\n",
       "      <td>ZA</td>\n",
       "      <td>[af, en, nr, st, ss, tn, ts, ve, xh, zu]</td>\n",
       "    </tr>\n",
       "    <tr>\n",
       "      <td>248</td>\n",
       "      <td>Zambia</td>\n",
       "      <td>AF</td>\n",
       "      <td>ZM</td>\n",
       "      <td>[en]</td>\n",
       "    </tr>\n",
       "    <tr>\n",
       "      <td>249</td>\n",
       "      <td>Zimbabwe</td>\n",
       "      <td>AF</td>\n",
       "      <td>ZW</td>\n",
       "      <td>[en, sn, nd]</td>\n",
       "    </tr>\n",
       "  </tbody>\n",
       "</table>\n",
       "<p>250 rows × 4 columns</p>\n",
       "</div>"
      ],
      "text/plain": [
       "                     name continent country  \\\n",
       "0                 Andorra        EU      AD   \n",
       "1    United Arab Emirates        AS      AE   \n",
       "2             Afghanistan        AS      AF   \n",
       "3     Antigua and Barbuda        NA      AG   \n",
       "4                Anguilla        NA      AI   \n",
       "..                    ...       ...     ...   \n",
       "245                 Yemen        AS      YE   \n",
       "246               Mayotte        AF      YT   \n",
       "247          South Africa        AF      ZA   \n",
       "248                Zambia        AF      ZM   \n",
       "249              Zimbabwe        AF      ZW   \n",
       "\n",
       "                                    languages  \n",
       "0                                        [ca]  \n",
       "1                                        [ar]  \n",
       "2                                [ps, uz, tk]  \n",
       "3                                        [en]  \n",
       "4                                        [en]  \n",
       "..                                        ...  \n",
       "245                                      [ar]  \n",
       "246                                      [fr]  \n",
       "247  [af, en, nr, st, ss, tn, ts, ve, xh, zu]  \n",
       "248                                      [en]  \n",
       "249                              [en, sn, nd]  \n",
       "\n",
       "[250 rows x 4 columns]"
      ]
     },
     "execution_count": 16,
     "metadata": {},
     "output_type": "execute_result"
    }
   ],
   "source": [
    "df_merged_2"
   ]
  },
  {
   "cell_type": "markdown",
   "metadata": {},
   "source": [
    "### We need to parse the column languages and generate new columns \"flag_\"+ language for the different values"
   ]
  },
  {
   "cell_type": "code",
   "execution_count": 17,
   "metadata": {},
   "outputs": [],
   "source": [
    "list_langs = list(df_merged_2['languages'])"
   ]
  },
  {
   "cell_type": "code",
   "execution_count": 18,
   "metadata": {},
   "outputs": [],
   "source": [
    "unique_langs = set(x for l in list_langs for x in l)\n"
   ]
  },
  {
   "cell_type": "code",
   "execution_count": 19,
   "metadata": {},
   "outputs": [],
   "source": [
    "for line in unique_langs:\n",
    "        string = \"flag_\"+line\n",
    "        df_merged_2[string] = df_merged_2[\"languages\"].apply(lambda x:1 if line in x else 0)"
   ]
  },
  {
   "cell_type": "markdown",
   "metadata": {},
   "source": [
    "### We add a new column adding the previous generated flag_ + language"
   ]
  },
  {
   "cell_type": "code",
   "execution_count": 20,
   "metadata": {},
   "outputs": [],
   "source": [
    "sum_langs = df_merged_2.filter(regex=\"flag_\") \n",
    "\n",
    "df_merged_2['total_langs'] = sum_langs.sum(axis=1) \n"
   ]
  },
  {
   "cell_type": "markdown",
   "metadata": {},
   "source": [
    "### Finally we export the merged dataframe with the needed columns to csv file"
   ]
  },
  {
   "cell_type": "code",
   "execution_count": 21,
   "metadata": {},
   "outputs": [],
   "source": [
    "df_merged_2.to_csv ('../output_data/DF_Merged.csv', index = None, header=True) "
   ]
  },
  {
   "cell_type": "code",
   "execution_count": null,
   "metadata": {},
   "outputs": [],
   "source": []
  }
 ],
 "metadata": {
  "kernelspec": {
   "display_name": "Python 3",
   "language": "python",
   "name": "python3"
  },
  "language_info": {
   "codemirror_mode": {
    "name": "ipython",
    "version": 3
   },
   "file_extension": ".py",
   "mimetype": "text/x-python",
   "name": "python",
   "nbconvert_exporter": "python",
   "pygments_lexer": "ipython3",
   "version": "3.6.9"
  }
 },
 "nbformat": 4,
 "nbformat_minor": 2
}
